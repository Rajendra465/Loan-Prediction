{
  "nbformat": 4,
  "nbformat_minor": 0,
  "metadata": {
    "colab": {
      "name": "Wine_Quality Prediction.ipynb",
      "provenance": [],
      "collapsed_sections": []
    },
    "kernelspec": {
      "name": "python3",
      "display_name": "Python 3"
    }
  },
  "cells": [
    {
      "cell_type": "code",
      "metadata": {
        "id": "BfvYB9zvn4-e"
      },
      "source": [
        ""
      ],
      "execution_count": null,
      "outputs": []
    },
    {
      "cell_type": "code",
      "metadata": {
        "id": "Sx7bk7RSgwHV"
      },
      "source": [
        "import numpy as np\n",
        "import pandas as pd\n",
        "from sklearn.model_selection import train_test_split\n",
        "from sklearn import preprocessing\n",
        "from sklearn import tree"
      ],
      "execution_count": null,
      "outputs": []
    },
    {
      "cell_type": "code",
      "metadata": {
        "id": "9wGWG5Ukg0dL"
      },
      "source": [
        "data = pd.read_csv('wiine.csv')"
      ],
      "execution_count": null,
      "outputs": []
    },
    {
      "cell_type": "code",
      "metadata": {
        "id": "ju88rq8Hg25M",
        "colab": {
          "base_uri": "https://localhost:8080/",
          "height": 195
        },
        "outputId": "4a201065-442f-4787-8444-487a5013b842"
      },
      "source": [
        "data.head(5)"
      ],
      "execution_count": null,
      "outputs": [
        {
          "output_type": "execute_result",
          "data": {
            "text/html": [
              "<div>\n",
              "<style scoped>\n",
              "    .dataframe tbody tr th:only-of-type {\n",
              "        vertical-align: middle;\n",
              "    }\n",
              "\n",
              "    .dataframe tbody tr th {\n",
              "        vertical-align: top;\n",
              "    }\n",
              "\n",
              "    .dataframe thead th {\n",
              "        text-align: right;\n",
              "    }\n",
              "</style>\n",
              "<table border=\"1\" class=\"dataframe\">\n",
              "  <thead>\n",
              "    <tr style=\"text-align: right;\">\n",
              "      <th></th>\n",
              "      <th>fixed acidity</th>\n",
              "      <th>volatile acidity</th>\n",
              "      <th>citric acid</th>\n",
              "      <th>residual sugar</th>\n",
              "      <th>chlorides</th>\n",
              "      <th>free sulfur dioxide</th>\n",
              "      <th>total sulfur dioxide</th>\n",
              "      <th>density</th>\n",
              "      <th>pH</th>\n",
              "      <th>sulphates</th>\n",
              "      <th>alcohol</th>\n",
              "      <th>quality</th>\n",
              "    </tr>\n",
              "  </thead>\n",
              "  <tbody>\n",
              "    <tr>\n",
              "      <th>0</th>\n",
              "      <td>7.4</td>\n",
              "      <td>0.70</td>\n",
              "      <td>0.00</td>\n",
              "      <td>1.9</td>\n",
              "      <td>0.076</td>\n",
              "      <td>11.0</td>\n",
              "      <td>34.0</td>\n",
              "      <td>0.9978</td>\n",
              "      <td>3.51</td>\n",
              "      <td>0.56</td>\n",
              "      <td>9.4</td>\n",
              "      <td>5</td>\n",
              "    </tr>\n",
              "    <tr>\n",
              "      <th>1</th>\n",
              "      <td>7.8</td>\n",
              "      <td>0.88</td>\n",
              "      <td>0.00</td>\n",
              "      <td>2.6</td>\n",
              "      <td>0.098</td>\n",
              "      <td>25.0</td>\n",
              "      <td>67.0</td>\n",
              "      <td>0.9968</td>\n",
              "      <td>3.20</td>\n",
              "      <td>0.68</td>\n",
              "      <td>9.8</td>\n",
              "      <td>5</td>\n",
              "    </tr>\n",
              "    <tr>\n",
              "      <th>2</th>\n",
              "      <td>7.8</td>\n",
              "      <td>0.76</td>\n",
              "      <td>0.04</td>\n",
              "      <td>2.3</td>\n",
              "      <td>0.092</td>\n",
              "      <td>15.0</td>\n",
              "      <td>54.0</td>\n",
              "      <td>0.9970</td>\n",
              "      <td>3.26</td>\n",
              "      <td>0.65</td>\n",
              "      <td>9.8</td>\n",
              "      <td>5</td>\n",
              "    </tr>\n",
              "    <tr>\n",
              "      <th>3</th>\n",
              "      <td>11.2</td>\n",
              "      <td>0.28</td>\n",
              "      <td>0.56</td>\n",
              "      <td>1.9</td>\n",
              "      <td>0.075</td>\n",
              "      <td>17.0</td>\n",
              "      <td>60.0</td>\n",
              "      <td>0.9980</td>\n",
              "      <td>3.16</td>\n",
              "      <td>0.58</td>\n",
              "      <td>9.8</td>\n",
              "      <td>6</td>\n",
              "    </tr>\n",
              "    <tr>\n",
              "      <th>4</th>\n",
              "      <td>7.4</td>\n",
              "      <td>0.70</td>\n",
              "      <td>0.00</td>\n",
              "      <td>1.9</td>\n",
              "      <td>0.076</td>\n",
              "      <td>11.0</td>\n",
              "      <td>34.0</td>\n",
              "      <td>0.9978</td>\n",
              "      <td>3.51</td>\n",
              "      <td>0.56</td>\n",
              "      <td>9.4</td>\n",
              "      <td>5</td>\n",
              "    </tr>\n",
              "  </tbody>\n",
              "</table>\n",
              "</div>"
            ],
            "text/plain": [
              "   fixed acidity  volatile acidity  citric acid  ...  sulphates  alcohol  quality\n",
              "0            7.4              0.70         0.00  ...       0.56      9.4        5\n",
              "1            7.8              0.88         0.00  ...       0.68      9.8        5\n",
              "2            7.8              0.76         0.04  ...       0.65      9.8        5\n",
              "3           11.2              0.28         0.56  ...       0.58      9.8        6\n",
              "4            7.4              0.70         0.00  ...       0.56      9.4        5\n",
              "\n",
              "[5 rows x 12 columns]"
            ]
          },
          "metadata": {
            "tags": []
          },
          "execution_count": 13
        }
      ]
    },
    {
      "cell_type": "code",
      "metadata": {
        "id": "nq56Bc7ng5aB",
        "colab": {
          "base_uri": "https://localhost:8080/",
          "height": 235
        },
        "outputId": "fa922aa6-a6f6-4f5a-8121-5f116b43bc96"
      },
      "source": [
        "data.isnull().sum()"
      ],
      "execution_count": null,
      "outputs": [
        {
          "output_type": "execute_result",
          "data": {
            "text/plain": [
              "fixed acidity           0\n",
              "volatile acidity        0\n",
              "citric acid             0\n",
              "residual sugar          0\n",
              "chlorides               0\n",
              "free sulfur dioxide     0\n",
              "total sulfur dioxide    0\n",
              "density                 0\n",
              "pH                      0\n",
              "sulphates               0\n",
              "alcohol                 0\n",
              "quality                 0\n",
              "dtype: int64"
            ]
          },
          "metadata": {
            "tags": []
          },
          "execution_count": 14
        }
      ]
    },
    {
      "cell_type": "code",
      "metadata": {
        "id": "H-oqksw9g_9d"
      },
      "source": [
        "y = data.quality\n",
        "X = data.drop('quality', axis=1)"
      ],
      "execution_count": null,
      "outputs": []
    },
    {
      "cell_type": "code",
      "metadata": {
        "id": "rvfjHk-dhCIH",
        "colab": {
          "base_uri": "https://localhost:8080/",
          "height": 218
        },
        "outputId": "f8399bbb-46da-4d09-c623-51caecd24034"
      },
      "source": [
        "X_train, X_test, y_train, y_test = train_test_split(X, y,test_size=0.2)\n",
        "print (\"\\nX_train:\\n\")\n",
        "print(X_train.head())\n",
        "print (X_train.shape)"
      ],
      "execution_count": null,
      "outputs": [
        {
          "output_type": "stream",
          "text": [
            "\n",
            "X_train:\n",
            "\n",
            "      fixed acidity  volatile acidity  citric acid  ...    pH  sulphates  alcohol\n",
            "207             7.8              0.57         0.31  ...  3.29       0.53     9.30\n",
            "1079            7.9              0.30         0.68  ...  3.01       0.51    12.30\n",
            "1521            6.9              0.48         0.20  ...  3.39       0.43     9.05\n",
            "149             8.2              0.40         0.44  ...  3.53       0.61    10.50\n",
            "454             7.0              0.23         0.40  ...  3.50       0.63    11.10\n",
            "\n",
            "[5 rows x 11 columns]\n",
            "(1279, 11)\n"
          ],
          "name": "stdout"
        }
      ]
    },
    {
      "cell_type": "code",
      "metadata": {
        "id": "_Qi59aIZhE3P",
        "colab": {
          "base_uri": "https://localhost:8080/",
          "height": 302
        },
        "outputId": "0e89b9b3-4506-4285-e9ce-404c79734ae0"
      },
      "source": [
        "X_train_scaled = preprocessing.scale(X_train)\n",
        "print(\"\\nAfter preprocessing: \\n\")\n",
        "print (X_train_scaled)\n",
        "print (X_train_scaled.shape)\n"
      ],
      "execution_count": null,
      "outputs": [
        {
          "output_type": "stream",
          "text": [
            "\n",
            "After preprocessing: \n",
            "\n",
            "[[-0.29640496  0.2213428   0.21084978 ... -0.15390223 -0.77442105\n",
            "  -1.0552238 ]\n",
            " [-0.23974647 -1.27579378  2.10170517 ... -1.93411753 -0.89461818\n",
            "   1.73959027]\n",
            " [-0.80633135 -0.27770273 -0.35129642 ...  0.48188895 -1.37540674\n",
            "  -1.28812498]\n",
            " ...\n",
            " [ 2.7631534  -0.38860173  1.28403797 ... -1.36190547 -0.59412534\n",
            "  -1.33470521]\n",
            " [-0.80633135  0.2213428  -1.37338042 ...  0.60904719 -0.83451962\n",
            "   0.34218323]\n",
            " [-0.40972194  0.83128733 -1.27117202 ... -0.91685164  2.53100026\n",
            "  -1.14838427]]\n",
            "(1279, 11)\n"
          ],
          "name": "stdout"
        }
      ]
    },
    {
      "cell_type": "code",
      "metadata": {
        "id": "rauikTuahJkD",
        "colab": {
          "base_uri": "https://localhost:8080/",
          "height": 84
        },
        "outputId": "d7546b9f-7322-4414-cc72-1684a3517cce"
      },
      "source": [
        "clf=tree.DecisionTreeClassifier()\n",
        "\n",
        "clf.fit(X_train, y_train)\n",
        "\n",
        "\n",
        "confidence = clf.score(X_test, y_test)\n",
        "print(\"\\nThe confidence score:\\n\")\n",
        "print(confidence)\n"
      ],
      "execution_count": null,
      "outputs": [
        {
          "output_type": "stream",
          "text": [
            "\n",
            "The confidence score:\n",
            "\n",
            "0.6125\n"
          ],
          "name": "stdout"
        }
      ]
    },
    {
      "cell_type": "code",
      "metadata": {
        "id": "flW0gfCYhUXU",
        "colab": {
          "base_uri": "https://localhost:8080/",
          "height": 756
        },
        "outputId": "9285baf9-6709-4b4c-8e72-f667c13355e1"
      },
      "source": [
        "y_pred = clf.predict(X_test)\n",
        "print(\"\\nThe prediction:\\n\")\n",
        "print(y_pred)\n",
        "print(\"\\nThe expectation:\\n\")\n",
        "print(y_test)\n",
        "x=np.array(y_pred).tolist()\n",
        "print(\"\\nThe prediction:\\n\")\n",
        "for i in range(0,5):\n",
        "    print (x[i])\n",
        "    \n",
        "print(\"\\nThe expectation:\\n\")\n",
        "print (y_test.head())"
      ],
      "execution_count": null,
      "outputs": [
        {
          "output_type": "stream",
          "text": [
            "\n",
            "The prediction:\n",
            "\n",
            "[5 7 6 5 7 7 6 5 5 5 6 5 5 7 6 6 5 6 5 7 5 6 6 5 5 6 5 6 6 5 7 6 5 7 5 5 6\n",
            " 6 6 7 4 4 5 6 5 5 5 5 6 6 7 5 5 5 5 5 4 6 7 5 7 5 6 6 7 5 5 5 7 7 6 5 6 6\n",
            " 7 5 6 6 5 5 6 5 6 6 5 6 6 5 5 5 5 8 5 5 7 6 6 5 5 6 6 5 6 5 5 7 5 5 5 5 6\n",
            " 5 6 5 5 7 7 7 5 6 5 5 4 5 7 5 6 6 6 7 6 6 7 5 4 6 5 6 7 7 5 6 5 5 6 5 6 5\n",
            " 5 5 5 4 6 5 6 6 6 5 6 7 7 5 5 6 5 6 5 6 7 5 5 6 6 5 5 6 6 5 6 7 5 7 6 6 6\n",
            " 7 5 5 7 5 5 5 6 5 5 5 5 5 6 6 5 5 6 5 7 7 5 5 6 6 6 6 6 6 5 5 6 6 6 7 5 6\n",
            " 5 6 7 7 4 5 6 6 6 5 6 5 6 5 5 7 5 6 6 7 6 6 6 5 5 5 6 5 6 5 6 5 5 6 5 6 5\n",
            " 5 5 5 6 6 4 7 5 6 6 6 4 7 5 6 6 5 5 5 7 5 5 6 6 6 7 6 6 6 6 6 6 6 7 5 6 6\n",
            " 5 5 4 5 5 6 7 5 5 5 6 6 5 5 6 6 5 5 5 5 6 6 5 6]\n",
            "\n",
            "The expectation:\n",
            "\n",
            "880     5\n",
            "814     6\n",
            "1250    6\n",
            "1442    5\n",
            "1311    6\n",
            "       ..\n",
            "1419    5\n",
            "46      5\n",
            "271     6\n",
            "250     6\n",
            "816     6\n",
            "Name: quality, Length: 320, dtype: int64\n",
            "\n",
            "The prediction:\n",
            "\n",
            "5\n",
            "7\n",
            "6\n",
            "5\n",
            "7\n",
            "\n",
            "The expectation:\n",
            "\n",
            "880     5\n",
            "814     6\n",
            "1250    6\n",
            "1442    5\n",
            "1311    6\n",
            "Name: quality, dtype: int64\n"
          ],
          "name": "stdout"
        }
      ]
    }
  ]
}